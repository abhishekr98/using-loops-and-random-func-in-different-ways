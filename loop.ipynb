{
 "cells": [
  {
   "cell_type": "code",
   "execution_count": 10,
   "id": "52b798cd",
   "metadata": {},
   "outputs": [
    {
     "name": "stdout",
     "output_type": "stream",
     "text": [
      "table of 2 is\n",
      "2\n",
      "4\n",
      "6\n",
      "8\n",
      "10\n",
      "12\n",
      "14\n",
      "16\n",
      "18\n",
      "20\n",
      "loop ended\n"
     ]
    }
   ],
   "source": [
    "count  = 1\n",
    "\n",
    "print(\"table of 2 is\")\n",
    "while count<=10:\n",
    "    print(count*2)\n",
    "    count+=1\n",
    "\n",
    "print(\"loop ended\")\n"
   ]
  },
  {
   "cell_type": "code",
   "execution_count": 21,
   "id": "0c7d79d7",
   "metadata": {},
   "outputs": [
    {
     "name": "stdout",
     "output_type": "stream",
     "text": [
      "enter the table you want: 4\n",
      "table of 4 is\n",
      "4 x 1 = 4\n",
      "4 x 2 = 8\n",
      "4 x 3 = 12\n",
      "4 x 4 = 16\n",
      "4 x 5 = 20\n",
      "4 x 6 = 24\n",
      "4 x 7 = 28\n",
      "4 x 8 = 32\n",
      "4 x 9 = 36\n",
      "4 x 10 = 40\n",
      "loop ended\n"
     ]
    }
   ],
   "source": [
    "count  = 1\n",
    "\n",
    "n=int(input(\"enter the table you want: \"))\n",
    "print(\"table of\",n,\"is\")\n",
    "while count<=10:\n",
    "    print(n ,\"x\", count,\"=\", count*n)\n",
    "    count+=1\n",
    "\n",
    "print(\"loop ended\")\n"
   ]
  },
  {
   "cell_type": "code",
   "execution_count": 11,
   "id": "bb1fd00a",
   "metadata": {},
   "outputs": [
    {
     "name": "stdout",
     "output_type": "stream",
     "text": [
      "number 1\n",
      "number 2\n",
      "number 3\n",
      "number 4\n",
      "number 5\n",
      "number 6\n",
      "number 7\n",
      "number 8\n",
      "number 9\n",
      "loop ended\n"
     ]
    }
   ],
   "source": [
    "count = 0\n",
    "while count<9:\n",
    "    count+=1\n",
    "    print(\"number\",count)\n",
    "print(\"loop ended\")"
   ]
  },
  {
   "cell_type": "code",
   "execution_count": 17,
   "id": "632b06b5",
   "metadata": {},
   "outputs": [],
   "source": [
    " v "
   ]
  },
  {
   "cell_type": "code",
   "execution_count": 3,
   "id": "ffe8db3f",
   "metadata": {},
   "outputs": [
    {
     "data": {
      "text/plain": [
       "'shraddha'"
      ]
     },
     "execution_count": 3,
     "metadata": {},
     "output_type": "execute_result"
    }
   ],
   "source": [
    "list1[2]"
   ]
  },
  {
   "cell_type": "code",
   "execution_count": 13,
   "id": "82f0f340",
   "metadata": {},
   "outputs": [
    {
     "name": "stdout",
     "output_type": "stream",
     "text": [
      "name:  abhishek\n",
      "name:  shraddha\n",
      "name:  swarup\n",
      "name:  swapnil\n",
      "name:  akbar\n"
     ]
    }
   ],
   "source": [
    "n=0\n",
    "while n<len(list1):\n",
    "    print(\"name: \",list1[n])\n",
    "    n+=2"
   ]
  },
  {
   "cell_type": "code",
   "execution_count": 22,
   "id": "52d4bc0a",
   "metadata": {},
   "outputs": [
    {
     "name": "stdout",
     "output_type": "stream",
     "text": [
      "name:  abhishek\n",
      "name:  shraddha\n",
      "name:  swarup\n",
      "name:  swapnil\n",
      "name:  akbar\n"
     ]
    }
   ],
   "source": [
    "n=0\n",
    "for i in range(len(list1)):\n",
    "    if n%2==0:\n",
    "        print(\"name: \",list1[n])\n",
    "    n+=1"
   ]
  },
  {
   "cell_type": "code",
   "execution_count": 5,
   "id": "bc8edc97",
   "metadata": {},
   "outputs": [],
   "source": [
    "list2 = [1,2,3,4,5,6,7,8,9,10,11,12,13,14,15,16,17,18,19,20]"
   ]
  },
  {
   "cell_type": "code",
   "execution_count": 16,
   "id": "0a01ba56",
   "metadata": {},
   "outputs": [
    {
     "name": "stdout",
     "output_type": "stream",
     "text": [
      "the odd numbers are\n",
      "1\n",
      "3\n",
      "5\n",
      "7\n",
      "9\n",
      "11\n",
      "13\n",
      "15\n",
      "17\n",
      "19\n"
     ]
    }
   ],
   "source": [
    "n=0\n",
    "print(\"the odd numbers are\")\n",
    "for i in range(len(list2)):\n",
    "    if (list2[n]%2)!=0:\n",
    "        print(list2[n])\n",
    "    n+=1"
   ]
  },
  {
   "cell_type": "code",
   "execution_count": 18,
   "id": "3257f128",
   "metadata": {},
   "outputs": [
    {
     "name": "stdout",
     "output_type": "stream",
     "text": [
      "name:  abhishek\n"
     ]
    }
   ],
   "source": [
    "n=0\n",
    "for i in range(len(list1)):\n",
    "    if n%2==0:\n",
    "        print(\"name: \",list1[n])\n",
    "        n+=1"
   ]
  },
  {
   "cell_type": "code",
   "execution_count": 19,
   "id": "d2e39de5",
   "metadata": {},
   "outputs": [
    {
     "name": "stdout",
     "output_type": "stream",
     "text": [
      "['abhishek', 'milind', 'shraddha', 'renuka', 'swarup', 'aditya', 'swapnil', 'sahil', 'akbar']\n"
     ]
    }
   ],
   "source": [
    "print(list1)"
   ]
  },
  {
   "cell_type": "code",
   "execution_count": 20,
   "id": "34e80194",
   "metadata": {},
   "outputs": [
    {
     "name": "stdout",
     "output_type": "stream",
     "text": [
      "name:  abhishek\n",
      "name:  shraddha\n",
      "name:  swarup\n",
      "name:  swapnil\n",
      "name:  akbar\n"
     ]
    }
   ],
   "source": [
    "n=0\n",
    "for i in range(len(list1)):\n",
    "    if n%2==0:\n",
    "        print(\"name: \",list1[n])\n",
    "    n+=1"
   ]
  },
  {
   "cell_type": "code",
   "execution_count": 42,
   "id": "4bd5717f",
   "metadata": {},
   "outputs": [
    {
     "name": "stdout",
     "output_type": "stream",
     "text": [
      "the numbers divisible by 5 are\n",
      "0  5  10  15  20  25  30  35  40  45  50  55  60  65  70  75  80  85  90  95  "
     ]
    }
   ],
   "source": [
    "n=0\n",
    "print(\"the numbers divisible by 5 are\")\n",
    "for i in range(100):\n",
    "    if (i%5)==0:\n",
    "        print(i,\" \",end=\"\")\n",
    "    n+=1"
   ]
  },
  {
   "cell_type": "code",
   "execution_count": 43,
   "id": "8a519d9b",
   "metadata": {},
   "outputs": [
    {
     "name": "stdout",
     "output_type": "stream",
     "text": [
      "the numbers not divisible by 6 are\n",
      "1  2  3  4  5  7  8  9  10  11  13  14  15  16  17  19  20  21  22  23  25  26  27  28  29  31  32  33  34  35  37  38  39  40  41  43  44  45  46  47  49  50  51  52  53  55  56  57  58  59  61  62  63  64  65  67  68  69  70  71  73  74  75  76  77  79  80  81  82  83  85  86  87  88  89  91  92  93  94  95  97  98  99  "
     ]
    }
   ],
   "source": [
    "n=0\n",
    "print(\"the numbers not divisible by 6 are\")\n",
    "for i in range(100):\n",
    "    if (i%6)!=0:\n",
    "        print(i,\" \",end=\"\")\n",
    "    n+=1"
   ]
  },
  {
   "cell_type": "code",
   "execution_count": 8,
   "id": "ccc22afd",
   "metadata": {},
   "outputs": [
    {
     "name": "stdout",
     "output_type": "stream",
     "text": [
      "[67, 54, 96, 88, 11, 13, 20, 92, 68, 29, 15, 37, 36, 86, 8, 40, 50, 9, 87, 18, 56, 82, 45, 55, 41, 65, 76, 78, 30, 75, 2, 43, 12, 89, 59, 98, 3, 27, 77, 70, 22, 19, 91, 24, 1, 49, 26, 71, 52, 53]\n"
     ]
    }
   ],
   "source": [
    "import random\n",
    "print(random.sample(range(1,100),50))"
   ]
  },
  {
   "cell_type": "code",
   "execution_count": 58,
   "id": "efe0056b",
   "metadata": {},
   "outputs": [
    {
     "name": "stdout",
     "output_type": "stream",
     "text": [
      "the random numbers divisible by 10 are\n",
      "70 60 90 80 80 70 70 80 100 40 70 50 50 100 "
     ]
    }
   ],
   "source": [
    "import random\n",
    "print(\"the random numbers divisible by 10 are\")\n",
    "for i in range(100):\n",
    "    n = random.randint(1,100)\n",
    "    if (n%10)==0:\n",
    "        print(n,\"\",end=\"\")"
   ]
  },
  {
   "cell_type": "code",
   "execution_count": 7,
   "id": "844c66bc",
   "metadata": {},
   "outputs": [
    {
     "name": "stdout",
     "output_type": "stream",
     "text": [
      "26\n"
     ]
    }
   ],
   "source": [
    "import random\n",
    "print(random.randint(1,100))"
   ]
  },
  {
   "cell_type": "code",
   "execution_count": 22,
   "id": "8cc15139",
   "metadata": {},
   "outputs": [
    {
     "name": "stdout",
     "output_type": "stream",
     "text": [
      "odd:  1\n",
      "odd:  1\n",
      "odd:  7\n",
      "odd:  7\n",
      "odd:  3\n",
      "even: 2\n",
      "odd:  3\n",
      "even: 2\n",
      "odd:  1\n",
      "even: 4\n",
      "total odd numbers are: 7\n",
      "total even numbers are: 3\n"
     ]
    }
   ],
   "source": [
    "import random\n",
    "count1=0\n",
    "count2=0\n",
    "for i in range(10):\n",
    "    n = random.randint(1,10)\n",
    "    if (n%2)==0:\n",
    "        print(\"even:\",n)\n",
    "        count1+=1\n",
    "    else:\n",
    "        print(\"odd: \",n)\n",
    "        count2+=1\n",
    "print(\"total odd numbers are:\",count2)\n",
    "print(\"total even numbers are:\",count1)"
   ]
  },
  {
   "cell_type": "code",
   "execution_count": null,
   "id": "0be9bb72",
   "metadata": {},
   "outputs": [],
   "source": []
  }
 ],
 "metadata": {
  "kernelspec": {
   "display_name": "Python 3",
   "language": "python",
   "name": "python3"
  },
  "language_info": {
   "codemirror_mode": {
    "name": "ipython",
    "version": 3
   },
   "file_extension": ".py",
   "mimetype": "text/x-python",
   "name": "python",
   "nbconvert_exporter": "python",
   "pygments_lexer": "ipython3",
   "version": "3.8.8"
  }
 },
 "nbformat": 4,
 "nbformat_minor": 5
}
